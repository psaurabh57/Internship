{
 "cells": [
  {
   "cell_type": "markdown",
   "id": "607f97ec",
   "metadata": {},
   "source": [
    "# Q11 to Q15"
   ]
  },
  {
   "cell_type": "markdown",
   "id": "ce29a038",
   "metadata": {},
   "source": [
    "11. Write a python program to find the factorial of a number."
   ]
  },
  {
   "cell_type": "code",
   "execution_count": 50,
   "id": "eee7c7f8",
   "metadata": {},
   "outputs": [],
   "source": [
    "def fact(n):\n",
    "    return n*1 if(n<=1) else n*fact(n-1) "
   ]
  },
  {
   "cell_type": "code",
   "execution_count": 51,
   "id": "ff15467c",
   "metadata": {},
   "outputs": [
    {
     "data": {
      "text/plain": [
       "720"
      ]
     },
     "execution_count": 51,
     "metadata": {},
     "output_type": "execute_result"
    }
   ],
   "source": [
    "fact(6)"
   ]
  },
  {
   "cell_type": "markdown",
   "id": "ea807f80",
   "metadata": {},
   "source": [
    "12. Write a python program to find whether a number is prime or composite."
   ]
  },
  {
   "cell_type": "code",
   "execution_count": 52,
   "id": "2f84c71a",
   "metadata": {},
   "outputs": [],
   "source": [
    "def check_prime(n):\n",
    "    if(n<2):return \"neither prime number nor composite number.\"\n",
    "    elif(n==2):return \"only even prime number\"\n",
    "    else:\n",
    "        for i in range(2,n):\n",
    "            if(n%i==0):\n",
    "                ret=\"composite number\"\n",
    "                break\n",
    "            else: ret=\"prime number\"\n",
    "        return ret"
   ]
  },
  {
   "cell_type": "code",
   "execution_count": 53,
   "id": "f25e27a9",
   "metadata": {},
   "outputs": [
    {
     "name": "stdout",
     "output_type": "stream",
     "text": [
      "0 : neither prime number nor composite number.\n",
      "1 : neither prime number nor composite number.\n",
      "2 : only even prime number\n",
      "3 : prime number\n",
      "4 : composite number\n",
      "5 : prime number\n",
      "6 : composite number\n",
      "7 : prime number\n",
      "8 : composite number\n",
      "9 : composite number\n",
      "10 : composite number\n",
      "11 : prime number\n",
      "12 : composite number\n",
      "13 : prime number\n",
      "14 : composite number\n",
      "15 : composite number\n",
      "16 : composite number\n",
      "17 : prime number\n",
      "18 : composite number\n",
      "19 : prime number\n",
      "20 : composite number\n",
      "21 : composite number\n",
      "22 : composite number\n",
      "23 : prime number\n",
      "24 : composite number\n",
      "25 : composite number\n",
      "26 : composite number\n",
      "27 : composite number\n",
      "28 : composite number\n",
      "29 : prime number\n",
      "30 : composite number\n"
     ]
    }
   ],
   "source": [
    "for i in range(0,30+1):\n",
    "    print(i,\":\",check_prime(i))"
   ]
  },
  {
   "cell_type": "markdown",
   "id": "7812e67a",
   "metadata": {},
   "source": [
    "13. Write a python program to check whether a given string is palindrome or not."
   ]
  },
  {
   "cell_type": "code",
   "execution_count": 82,
   "id": "00b0cb1e",
   "metadata": {},
   "outputs": [],
   "source": [
    "def palindrome(st):\n",
    "    size=len(st)\n",
    "    if size<2:return \"size is too small\"\n",
    "    for i in range(1,size+1):\n",
    "        if st[i-1]==st[size-i]:ret=\"given string is palindrome\"    \n",
    "        else:return \"given string is not palindrome\"\n",
    "    return ret"
   ]
  },
  {
   "cell_type": "code",
   "execution_count": 85,
   "id": "665fb9c5",
   "metadata": {},
   "outputs": [
    {
     "name": "stdout",
     "output_type": "stream",
     "text": [
      "a : size is too small\n",
      "SoloS : given string is palindrome\n",
      "RotatoR : given string is palindrome\n",
      "saurabh : given string is not palindrome\n",
      "SagaS : given string is palindrome\n",
      "elephant : given string is not palindrome\n",
      "TenT : given string is not palindrome\n",
      "RepapeR : given string is palindrome\n",
      "CiviC : given string is palindrome\n",
      "KayaK : given string is palindrome\n",
      "Lever : given string is not palindrome\n",
      "MadaM : given string is palindrome\n",
      "python : given string is not palindrome\n"
     ]
    }
   ],
   "source": [
    "vals= [ 'a','SoloS','RotatoR','saurabh','SagaS','elephant','TenT','RepapeR','CiviC','KayaK','Lever','MadaM','python']\n",
    "for i in vals:print(i,\":\",palindrome(i))"
   ]
  },
  {
   "cell_type": "markdown",
   "id": "0716549a",
   "metadata": {},
   "source": [
    "14. Write a Python program to get the third side of right-angled triangle from two given sides."
   ]
  },
  {
   "cell_type": "code",
   "execution_count": 86,
   "id": "4963a239",
   "metadata": {},
   "outputs": [],
   "source": [
    "import math\n",
    "def hypo(s1,s2):\n",
    "    return math.sqrt((s1)**2+(s2)**2)"
   ]
  },
  {
   "cell_type": "code",
   "execution_count": 87,
   "id": "4b2388cc",
   "metadata": {},
   "outputs": [
    {
     "data": {
      "text/plain": [
       "5.0"
      ]
     },
     "execution_count": 87,
     "metadata": {},
     "output_type": "execute_result"
    }
   ],
   "source": [
    "hypo(3,4)"
   ]
  },
  {
   "cell_type": "code",
   "execution_count": 102,
   "id": "301e220a",
   "metadata": {},
   "outputs": [],
   "source": [
    "import math\n",
    "def hyp(s1=0,s2=0,hyp=0):\n",
    "    print(\"Kindly enter zero to find that side\")\n",
    "    s1=int(input(\"Enter a first side: \"))\n",
    "    s2=int(input(\"Enter a second side: \"))\n",
    "    hyp=int(input(\"Enter a hypo side: \"))\n",
    "    if(s1==0):return math.sqrt((hyp)**2-(s2)**2)\n",
    "    elif(s2==0):return math.sqrt((hyp)**2-(s1)**2)\n",
    "    else:return math.sqrt((s1)**2+(s2)**2)"
   ]
  },
  {
   "cell_type": "code",
   "execution_count": 103,
   "id": "6afdda4a",
   "metadata": {},
   "outputs": [
    {
     "name": "stdout",
     "output_type": "stream",
     "text": [
      "Kindly enter zero to find that side\n",
      "Enter a first side: 3\n",
      "Enter a second side: 0\n",
      "Enter a hypo side: 5\n"
     ]
    },
    {
     "data": {
      "text/plain": [
       "4.0"
      ]
     },
     "execution_count": 103,
     "metadata": {},
     "output_type": "execute_result"
    }
   ],
   "source": [
    "hyp()"
   ]
  },
  {
   "cell_type": "markdown",
   "id": "9443c93f",
   "metadata": {},
   "source": [
    "15. Write a python program to print the frequency of each of the characters present in a given string"
   ]
  },
  {
   "cell_type": "code",
   "execution_count": 107,
   "id": "cd31ab17",
   "metadata": {},
   "outputs": [],
   "source": [
    "def count_String(st):\n",
    "    count={}\n",
    "    for i in st:\n",
    "        if i in count:count[i]=count[i]+1\n",
    "        else:count[i]=1\n",
    "    return count        "
   ]
  },
  {
   "cell_type": "code",
   "execution_count": 110,
   "id": "df594720",
   "metadata": {},
   "outputs": [
    {
     "data": {
      "text/plain": [
       "{'S': 1,\n",
       " 'a': 7,\n",
       " 'u': 1,\n",
       " 'r': 3,\n",
       " 'b': 1,\n",
       " 'h': 4,\n",
       " ' ': 2,\n",
       " 'A': 1,\n",
       " 'm': 1,\n",
       " 'e': 1,\n",
       " 's': 1,\n",
       " 'c': 1,\n",
       " 'n': 1,\n",
       " 'd': 1,\n",
       " 'P': 1,\n",
       " 't': 1,\n",
       " 'k': 1}"
      ]
     },
     "execution_count": 110,
     "metadata": {},
     "output_type": "execute_result"
    }
   ],
   "source": [
    "count_String('Saurabh Amareshchandra Pathak')"
   ]
  },
  {
   "cell_type": "code",
   "execution_count": null,
   "id": "60f9ecba",
   "metadata": {},
   "outputs": [],
   "source": []
  }
 ],
 "metadata": {
  "kernelspec": {
   "display_name": "Python 3",
   "language": "python",
   "name": "python3"
  },
  "language_info": {
   "codemirror_mode": {
    "name": "ipython",
    "version": 3
   },
   "file_extension": ".py",
   "mimetype": "text/x-python",
   "name": "python",
   "nbconvert_exporter": "python",
   "pygments_lexer": "ipython3",
   "version": "3.8.8"
  }
 },
 "nbformat": 4,
 "nbformat_minor": 5
}
